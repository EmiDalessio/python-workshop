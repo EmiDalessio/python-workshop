{
 "cells": [
  {
   "cell_type": "markdown",
   "id": "9a29f79a",
   "metadata": {},
   "source": [
    "## Funciones\n",
    "\n",
    "\n",
    "Hasta ahora hemos definido código en una celda: declaramos parámetros en variables, luego hacemos alguna operación e imprimimos y/o devolvemos un resultado. \n",
    "\n",
    "Para generalizar esto podemos declarar **funciones**, de manera de que no sea necesario redefinir variables en el código para calcular/realizar nuestra operación con diferentes parámetros. En Python las funciones se definen con la sentencia `def` y con `return` se devuelve un valor"
   ]
  },
  {
   "cell_type": "code",
   "execution_count": 1,
   "id": "798ebbb9",
   "metadata": {
    "tags": []
   },
   "outputs": [],
   "source": [
    "def cuadrado(numero):\n",
    "    \"\"\"Dado un escalar, devuelve su potencia cuadrada\"\"\"\n",
    "    resulta = numero**2\n",
    "    return resulta"
   ]
  },
  {
   "cell_type": "code",
   "execution_count": 2,
   "id": "1e1bd3a6",
   "metadata": {},
   "outputs": [
    {
     "data": {
      "text/plain": [
       "9"
      ]
     },
     "execution_count": 2,
     "metadata": {},
     "output_type": "execute_result"
    }
   ],
   "source": [
    "cuadrado(3)"
   ]
  },
  {
   "cell_type": "code",
   "execution_count": 3,
   "id": "b2ed23b1",
   "metadata": {},
   "outputs": [
    {
     "data": {
      "text/plain": [
       "4e+20"
      ]
     },
     "execution_count": 3,
     "metadata": {},
     "output_type": "execute_result"
    }
   ],
   "source": [
    "cuadrado(2e10)"
   ]
  },
  {
   "cell_type": "code",
   "execution_count": 4,
   "id": "30b7e2c1",
   "metadata": {},
   "outputs": [
    {
     "data": {
      "text/plain": [
       "(24-10j)"
      ]
     },
     "execution_count": 4,
     "metadata": {},
     "output_type": "execute_result"
    }
   ],
   "source": [
    "cuadrado(5-1j)"
   ]
  },
  {
   "cell_type": "code",
   "execution_count": 5,
   "id": "4dc6f751",
   "metadata": {},
   "outputs": [
    {
     "data": {
      "text/plain": [
       "25"
      ]
     },
     "execution_count": 5,
     "metadata": {},
     "output_type": "execute_result"
    }
   ],
   "source": [
    "cuadrado(3 + 2)"
   ]
  },
  {
   "cell_type": "markdown",
   "id": "58d26c13",
   "metadata": {},
   "source": [
    "Noten que no **exigimos** un tipo de dato en la signatura. Python es dinámico: se esperan **comportamientos** en vez de tipos. Un tipo de datos puede implementar distintos comportamientos y *\"funcionar\"* \n",
    "\n",
    "Si un número, cualquiera sea su tipo, puede elevarse al cuadrado, ¿por qué deberíamos hacer una función equivalente para enteros, otra para flotantes de simple precisión y otra para complejos como se hace en otros lenguajes?\n",
    "\n",
    "Esto es lo que se conoce como **[Duck typing](https://es.wikipedia.org/wiki/Duck_typing)**, que es el estilo de orientación a objetos que utiliza Python. \n",
    "\n",
    "   *\"Cuando veo un ave que camina como un pato, nada como un pato y suena como un pato, a esa ave yo le digo pato.\"*\n",
    "\n"
   ]
  },
  {
   "cell_type": "code",
   "execution_count": 6,
   "id": "ea242a6b",
   "metadata": {},
   "outputs": [
    {
     "ename": "TypeError",
     "evalue": "unsupported operand type(s) for ** or pow(): 'str' and 'int'",
     "output_type": "error",
     "traceback": [
      "\u001b[0;31m---------------------------------------------------------------------------\u001b[0m",
      "\u001b[0;31mTypeError\u001b[0m                                 Traceback (most recent call last)",
      "Input \u001b[0;32mIn [6]\u001b[0m, in \u001b[0;36m<module>\u001b[0;34m\u001b[0m\n\u001b[0;32m----> 1\u001b[0m \u001b[43mcuadrado\u001b[49m\u001b[43m(\u001b[49m\u001b[38;5;124;43m\"\u001b[39;49m\u001b[38;5;124;43mhola mundo\u001b[39;49m\u001b[38;5;124;43m\"\u001b[39;49m\u001b[43m)\u001b[49m\n",
      "Input \u001b[0;32mIn [1]\u001b[0m, in \u001b[0;36mcuadrado\u001b[0;34m(numero)\u001b[0m\n\u001b[1;32m      1\u001b[0m \u001b[38;5;28;01mdef\u001b[39;00m \u001b[38;5;21mcuadrado\u001b[39m(numero):\n\u001b[1;32m      2\u001b[0m     \u001b[38;5;124;03m\"\"\"Dado un escalar, devuelve su potencia cuadrada\"\"\"\u001b[39;00m\n\u001b[0;32m----> 3\u001b[0m     resulta \u001b[38;5;241m=\u001b[39m \u001b[43mnumero\u001b[49m\u001b[38;5;241;43m*\u001b[39;49m\u001b[38;5;241;43m*\u001b[39;49m\u001b[38;5;241;43m2\u001b[39;49m\n\u001b[1;32m      4\u001b[0m     \u001b[38;5;28;01mreturn\u001b[39;00m resulta\n",
      "\u001b[0;31mTypeError\u001b[0m: unsupported operand type(s) for ** or pow(): 'str' and 'int'"
     ]
    }
   ],
   "source": [
    "cuadrado(\"hola mundo\")"
   ]
  },
  {
   "cell_type": "markdown",
   "id": "5abcba86",
   "metadata": {},
   "source": [
    "Obviamente, si el objeto (el tipo del objeto) que pasamos no soporta el comportamiento que esperamos (en este caso no se puede \"elevar al cuadrado\" una cadena) fallará. \n",
    "\n",
    "Pero es mejor que nos avise del error, ¿no? ¿Por qué querríamos elevar una cadena al cuadrado? ¿qué significado tendría?\n",
    "\n",
    "\n",
    "![](http://img.desmotivaciones.es/201109/CliffRobertsonSpiderman1.jpg)\n",
    "\n",
    "\n",
    "\n",
    "#### Parámetros y más parámetros\n",
    "\n",
    "La definción de funciones es muy flexible. No exige ni siquiera pasar parámetros o devolver resultados\n"
   ]
  },
  {
   "cell_type": "code",
   "execution_count": 16,
   "id": "3f88391c",
   "metadata": {},
   "outputs": [
    {
     "name": "stdout",
     "output_type": "stream",
     "text": [
      "¡Hola shipheros!\n"
     ]
    }
   ],
   "source": [
    "# definimos una funcion que no recibe ni devuelve parámetros pero hace algo. \n",
    "def hola():\n",
    "    \"\"\"\n",
    "    una función que saluda\n",
    "    de una manera muy amable\n",
    "    \n",
    "    \"\"\"\n",
    "    print(\"¡Hola shipheros!\")\n",
    "    \n",
    "hola()   # llamamos a esa función"
   ]
  },
  {
   "cell_type": "code",
   "execution_count": 14,
   "id": "538ea9b8",
   "metadata": {},
   "outputs": [
    {
     "name": "stdout",
     "output_type": "stream",
     "text": [
      "¡Hola shipheros!\n",
      "None\n"
     ]
    }
   ],
   "source": [
    "print(hola())"
   ]
  },
  {
   "cell_type": "markdown",
   "id": "3e63df0e",
   "metadata": {},
   "source": [
    "Si la función no tiene un `return`, lo que devuelve es `None`."
   ]
  },
  {
   "cell_type": "code",
   "execution_count": null,
   "id": "68c87be4",
   "metadata": {},
   "outputs": [],
   "source": [
    "saludo = hola()"
   ]
  },
  {
   "cell_type": "markdown",
   "id": "80e7b402",
   "metadata": {},
   "source": [
    "### Docstrings\n",
    "\n",
    "Módulos, funciones, métodos y clases pueden tener una \"cadena de documentación\", que se define como un string \n",
    "en la primera linea del cuerpo. Python automáticamente asigna esa cadena al atributo `__doc__` del objeto en cuestión.\n",
    "\n",
    "Los `docstrings` **son opcionales pero muy recomendados**, porque a diferencia de los comentarios (que se ponen con `#`), son los que se muestran en la ayuda interactiva y tambien pueden post-procesarse para generar documentación de referencia automática\n",
    "\n"
   ]
  },
  {
   "cell_type": "code",
   "execution_count": null,
   "id": "a2ba0fbc",
   "metadata": {
    "lines_to_end_of_cell_marker": 2,
    "tags": []
   },
   "outputs": [],
   "source": [
    "hola.__doc__ = 'hola'"
   ]
  },
  {
   "cell_type": "markdown",
   "id": "fdf6444a",
   "metadata": {},
   "source": [
    "Tip: `__doc__` es un atributo que se puede escribir, por lo tanto podríamos asignarle un texto construído dinámicamente"
   ]
  },
  {
   "cell_type": "markdown",
   "id": "cf116c58",
   "metadata": {
    "lines_to_next_cell": 2
   },
   "source": [
    "#### tipo de dato: exigir vs recomendar\n",
    "\n",
    "Decimos que en Python *no hace falta* tipar los argumentos de una función (ni ninguna definición)\n",
    "por su carácter de lenguaje dinámico. Sin embargo, soporta *hints* de tipos, \n",
    "que por default son simplemente metainformación **para el desarrollador o la desarrolladora**"
   ]
  },
  {
   "cell_type": "code",
   "execution_count": null,
   "id": "8c2c733f",
   "metadata": {
    "lines_to_next_cell": 0,
    "tags": []
   },
   "outputs": [],
   "source": [
    "def greeting(name: str) -> str:\n",
    "    return f\"Hello {name}\"\n"
   ]
  },
  {
   "cell_type": "code",
   "execution_count": 7,
   "id": "fa91bb9b-d411-4dae-b7cf-b59f1f5241dc",
   "metadata": {},
   "outputs": [
    {
     "data": {
      "text/plain": [
       "numbers.Number"
      ]
     },
     "execution_count": 7,
     "metadata": {},
     "output_type": "execute_result"
    }
   ],
   "source": [
    "import numbers\n",
    "numbers.Number"
   ]
  },
  {
   "cell_type": "code",
   "execution_count": 9,
   "id": "a4db6753-ff0f-4b6f-a78a-8f5bf270080b",
   "metadata": {},
   "outputs": [
    {
     "data": {
      "text/plain": [
       "True"
      ]
     },
     "execution_count": 9,
     "metadata": {},
     "output_type": "execute_result"
    }
   ],
   "source": [
    "issubclass(float, numbers.Number)"
   ]
  },
  {
   "cell_type": "code",
   "execution_count": null,
   "id": "e46685d0",
   "metadata": {
    "lines_to_next_cell": 0,
    "tags": []
   },
   "outputs": [],
   "source": [
    "\n",
    "import numbers\n",
    "\n",
    "def cuadrado(numero: numbers.Number) -> numbers.Number:\n",
    "    return numero ** 2\n"
   ]
  },
  {
   "cell_type": "markdown",
   "id": "3597ff89",
   "metadata": {},
   "source": [
    "#### Múltiples puntos de salida\n",
    "\n",
    "También puede haber múltiples `return` en una función. El primero en ejecutarse determinará el valor que la función devuelve"
   ]
  },
  {
   "cell_type": "code",
   "execution_count": null,
   "id": "abf48bfe",
   "metadata": {},
   "outputs": [],
   "source": [
    "def saludo(coloquial):\n",
    "    if coloquial:\n",
    "        VAL = \"Hola chochamus!\"\n",
    "        return VAL\n",
    "    else:\n",
    "        return \"Buenas tardes, señores\"\n",
    "    \n",
    "    # Esto tambien podria ser una linea con la estructura ternaria\n",
    "    # return \"Hola chochamus!\" if coloquial else  \"Buenas tardes, señores\"\n",
    "    \n",
    "\n",
    "saludo(1)"
   ]
  },
  {
   "cell_type": "code",
   "execution_count": null,
   "id": "ff237589",
   "metadata": {},
   "outputs": [],
   "source": [
    "saludo(coloquial=True)"
   ]
  },
  {
   "cell_type": "code",
   "execution_count": null,
   "id": "6cf0aea3",
   "metadata": {},
   "outputs": [],
   "source": []
  },
  {
   "cell_type": "markdown",
   "id": "d727922b",
   "metadata": {},
   "source": [
    "### Parámetros opcionales\n",
    "\n",
    "Se pueden definir parámetros opcionales, que **toman un valor *default* ** cuando no se los explicíta"
   ]
  },
  {
   "cell_type": "markdown",
   "id": "bdac1bb0",
   "metadata": {},
   "source": [
    "La función `saluda` recibe un parámetro requerido `nombre` (es requerido porque no tiene valor por omisión)  y dos parámetros opcionales (`saludo` y `sufijo`). \n",
    "\n",
    "- Si sólo paso 1 parámetro será `nombre` y los valores default se usarán para los otros parámetros \n",
    "- Si paso 2 se usaran para `nombre` y `saludo` mientras que `sufijo` usará el default\n",
    "- Si paso todos los parámetros no se usaran los valores por omisión.\n"
   ]
  },
  {
   "cell_type": "code",
   "execution_count": 17,
   "id": "95c66370",
   "metadata": {},
   "outputs": [
    {
     "name": "stdout",
     "output_type": "stream",
     "text": [
      "Hola Martín, ¿qué tal?\n",
      "Ey Fernando, ¿qué tal?\n",
      "Estimado Lionel Messi, usted es un genio\n"
     ]
    }
   ],
   "source": [
    "def saludar(nombre, saludo=\"Hola\", sufijo=\"¿qué tal?\"):\n",
    "    \"\"\"Dado un nombre y, opcionalmente, un saludo y/o sufijo, devuelve \n",
    "    una cadena saludo + nombre + sufijo\"\"\"\n",
    "    \n",
    "    return \"{} {}, {}\".format(saludo, nombre, sufijo)  \n",
    "\n",
    "print(saludar(\"Martín\"))\n",
    "print(saludar(\"Fernando\", 'Ey'))\n",
    "print(saludar(\"Lionel Messi\", \"Estimado\", 'usted es un genio'))"
   ]
  },
  {
   "cell_type": "code",
   "execution_count": 25,
   "id": "eb868160-2bdb-4b79-88eb-815edb1ef20f",
   "metadata": {},
   "outputs": [
    {
     "ename": "SyntaxError",
     "evalue": "non-default argument follows default argument (4004888300.py, line 2)",
     "output_type": "error",
     "traceback": [
      "\u001b[0;36m  Input \u001b[0;32mIn [25]\u001b[0;36m\u001b[0m\n\u001b[0;31m    def saludar(antenombre=\"Sr.\",  nombre, saludo=\"Hola\", sufijo=\"¿qué tal?\"):\u001b[0m\n\u001b[0m                                           ^\u001b[0m\n\u001b[0;31mSyntaxError\u001b[0m\u001b[0;31m:\u001b[0m non-default argument follows default argument\n"
     ]
    }
   ],
   "source": [
    "# opcinal antes de un positional argument\n",
    "def saludar(antenombre=\"Sr.\",  nombre, saludo=\"Hola\", sufijo=\"¿qué tal?\"):\n",
    "    \"\"\"Dado un nombre y, opcionalmente, un saludo y/o sufijo, devuelve \n",
    "    una cadena saludo + nombre + sufijo\"\"\"\n",
    "    \n",
    "    return \"{} {} {}, {}\".format(saludo, ante_nombre, nombre, sufijo)  "
   ]
  },
  {
   "cell_type": "code",
   "execution_count": 18,
   "id": "af4dfe8e",
   "metadata": {},
   "outputs": [
    {
     "data": {
      "text/plain": [
       "'Hola oscar, ¿qué tal?'"
      ]
     },
     "execution_count": 18,
     "metadata": {},
     "output_type": "execute_result"
    }
   ],
   "source": [
    "saludar('oscar')"
   ]
  },
  {
   "cell_type": "markdown",
   "id": "20d3e540",
   "metadata": {},
   "source": [
    "Pero ¿qué pasa si quiero usar el default para `saludo` pero no para `sufijo`? \n",
    "\n",
    "Podemos pasar los **parámetros por nombre**"
   ]
  },
  {
   "cell_type": "code",
   "execution_count": 24,
   "id": "e3376453",
   "metadata": {},
   "outputs": [
    {
     "data": {
      "text/plain": [
       "'Hola Lionel, que golazo hiciste'"
      ]
     },
     "execution_count": 24,
     "metadata": {},
     "output_type": "execute_result"
    }
   ],
   "source": [
    "saludar('Lionel', sufijo=\"que golazo hiciste\")    # saludo no se explicitó, se usa el default (\"Hola\")"
   ]
  },
  {
   "cell_type": "markdown",
   "id": "3133949c",
   "metadata": {},
   "source": [
    "Entre los parámetros por nombre no importa el órden, pero si mezclamos las dos formas, los **parámetros por posición, deben ir antes** de los parámetros por nombre. "
   ]
  },
  {
   "cell_type": "markdown",
   "id": "3292a04d",
   "metadata": {},
   "source": [
    "#### Ejercicios\n",
    "\n",
    "1. Definir una función para encontrar las raíces en el plano real en la ecuación de segundo grado  \n",
    "$$x_{1,2} = \\frac{-b \\pm \\sqrt {b^2-4ac}}{2a}$$ El parámetro `a` es obligatorio, y `b` y `c` son opcionales con default 0. Devuelve una tupla con ambas raices. Luego mejore la implemtación para encontrar también las raices en el plano complejo cuando sea necesario. \n",
    "\n",
    "2. Definir una función `marquesina` que, dado un objeto, la devuelve como un texto decorado en una caja. El, ancho, alto del relleno y el caracter de decoración son parámetros opcionales. Por ejemplo, dada `\"Hola\"`, devuelve\n",
    "\n",
    "```\n",
    "     *****************\n",
    "     *      Hola     *\n",
    "     *****************\n",
    "```\n",
    "\n",
    "<!-- \n",
    "\n",
    " https://gist.githubusercontent.com/mgaitan/cb0ad9778453607acb49/raw/8d85d2184a4b46b48440cf5b5d95062801a08cce/baskara.py \n",
    "\n",
    "https://gist.githubusercontent.com/mgaitan/6319640/raw/8183dc5b214397f0ff2d38a25ebdd128a1a3ca0f/gistfile1.txt \n",
    "//-->"
   ]
  },
  {
   "cell_type": "code",
   "execution_count": 27,
   "id": "34e5de04-1700-4bcf-99f9-d74594f37170",
   "metadata": {},
   "outputs": [
    {
     "name": "stdout",
     "output_type": "stream",
     "text": [
      "************************************************************\n",
      "*                                                          *\n",
      "*                           Hola                           *\n",
      "*                                                          *\n",
      "************************************************************\n",
      "%%%%%%%%%%%%%%%%%%%%%%%%%%%%%%%%%%%%%%%%%%%%%%%%%%%%%%%%%%%%\n",
      "%                                                          %\n",
      "%                                                          %\n",
      "%                        Grosoooo!                         %\n",
      "%                                                          %\n",
      "%                                                          %\n",
      "%%%%%%%%%%%%%%%%%%%%%%%%%%%%%%%%%%%%%%%%%%%%%%%%%%%%%%%%%%%%\n"
     ]
    }
   ],
   "source": [
    "# %load https://gist.githubusercontent.com/mgaitan/6319640/raw/8183dc5b214397f0ff2d38a25ebdd128a1a3ca0f/gistfile1.txt\n",
    "def marquesina(cadena, ancho=60, alto=1, caracter=\"*\"):\n",
    "    cadena = str(cadena).center(ancho)\n",
    "    cadena = caracter + cadena[1:-1] + caracter\n",
    "    cadena += '\\n'\n",
    "    relleno = \" \" * ancho\n",
    "    relleno = caracter + relleno[1:-1] + caracter\n",
    "    relleno += '\\n'\n",
    "    tapa = caracter * ancho\n",
    "    return tapa + '\\n' + relleno * alto + cadena + relleno * alto + tapa\n",
    "\n",
    "print(marquesina(\"Hola\"))\n",
    "print(marquesina(\"Grosoooo!\", caracter=\"%\", alto=2))"
   ]
  },
  {
   "cell_type": "markdown",
   "id": "2452962e",
   "metadata": {},
   "source": [
    "### Parámetros arbitrarios: `*args` y `**kwargs`\n",
    "\n",
    "Hasta acá todo bonito. Pero ¿qué tal si quiero definir una función que acepte una cantidad arbitraria de parámetros? Acá vienen `*args` y `**kwargs`. Por ejemplo la función `zip` recibe una cantidad arbitraria de iteradores y devuelve tuplas con los i-elementos de cada una"
   ]
  },
  {
   "cell_type": "code",
   "execution_count": null,
   "id": "068c60f7-e7c8-4b4c-b1ea-40f47c9aa109",
   "metadata": {},
   "outputs": [],
   "source": [
    "zip"
   ]
  },
  {
   "cell_type": "code",
   "execution_count": 28,
   "id": "ac2dc15d",
   "metadata": {
    "tags": []
   },
   "outputs": [
    {
     "data": {
      "text/plain": [
       "[(1, 'a', 'alfa', 'a'), (2, 'b', 'beta', 'b'), (3, 'c', 'gama', 'c')]"
      ]
     },
     "execution_count": 28,
     "metadata": {},
     "output_type": "execute_result"
    }
   ],
   "source": [
    "list(zip((1, 2, 3), ('a', 'b', 'c'), ('alfa', 'beta', 'gama', 'theta'), \"abc\"))"
   ]
  },
  {
   "cell_type": "markdown",
   "id": "ea8f21ac",
   "metadata": {},
   "source": [
    "Entonces ¿cómo definiríamos una función al estilo  `zip` que recibe cuantos argumentos queramos?"
   ]
  },
  {
   "cell_type": "code",
   "execution_count": 29,
   "id": "cc244947",
   "metadata": {
    "tags": []
   },
   "outputs": [],
   "source": [
    "def prod(*args):\n",
    "    \"\"\"\n",
    "    calcula la productoria de todos los argumentos dados\n",
    "    \"\"\"\n",
    "    \n",
    "    # print(args)           # args es una tupla de los argumentos posicionales dados. \n",
    "    producto = 1\n",
    "    for num in args:        \n",
    "        producto *= num     # igual a producto = producto * num\n",
    "    return producto"
   ]
  },
  {
   "cell_type": "code",
   "execution_count": 30,
   "id": "98284b62-8d16-4fb8-a400-294312ade533",
   "metadata": {},
   "outputs": [
    {
     "data": {
      "text/plain": [
       "3"
      ]
     },
     "execution_count": 30,
     "metadata": {},
     "output_type": "execute_result"
    }
   ],
   "source": [
    "prod(3)"
   ]
  },
  {
   "cell_type": "code",
   "execution_count": 31,
   "id": "aab2e106",
   "metadata": {},
   "outputs": [
    {
     "data": {
      "text/plain": [
       "24"
      ]
     },
     "execution_count": 31,
     "metadata": {},
     "output_type": "execute_result"
    }
   ],
   "source": [
    "prod(3, 4, 2)"
   ]
  },
  {
   "cell_type": "code",
   "execution_count": 32,
   "id": "3481fcee",
   "metadata": {},
   "outputs": [
    {
     "data": {
      "text/plain": [
       "420.0"
      ]
     },
     "execution_count": 32,
     "metadata": {},
     "output_type": "execute_result"
    }
   ],
   "source": [
    "prod(10, 20, 2.1)"
   ]
  },
  {
   "cell_type": "markdown",
   "id": "8013604d",
   "metadata": {},
   "source": [
    "Por otro lado, tenemos como ejemplo el constructor `dict` que acepta una argumentos arbitrarios por clave para crear un diccionario"
   ]
  },
  {
   "cell_type": "code",
   "execution_count": 33,
   "id": "a78fdc85",
   "metadata": {},
   "outputs": [
    {
     "data": {
      "text/plain": [
       "{'Carlitos': 10, 'Gaitán': 'Jugador Nº 12', 'Gonzales': 'no juega'}"
      ]
     },
     "execution_count": 33,
     "metadata": {},
     "output_type": "execute_result"
    }
   ],
   "source": [
    "dict(Carlitos=10, Gaitán='Jugador Nº 12', Gonzales= 'no juega')"
   ]
  },
  {
   "cell_type": "markdown",
   "id": "6a200181",
   "metadata": {},
   "source": [
    "¿Cómo definir una función que permita esa flexibilidad? Eso se hace con `**kwarg`"
   ]
  },
  {
   "cell_type": "code",
   "execution_count": 34,
   "id": "eff6a755",
   "metadata": {
    "tags": []
   },
   "outputs": [],
   "source": [
    "def itemizar(**kwargs):\n",
    "    \"\"\"\n",
    "    genera una lista de items con todos los argumentos dados\n",
    "    \"\"\"\n",
    "    \n",
    "    for clave, valor in kwargs.items():\n",
    "        print('* {0} ({1})'.format(clave, valor))"
   ]
  },
  {
   "cell_type": "code",
   "execution_count": 35,
   "id": "9069fee8",
   "metadata": {},
   "outputs": [
    {
     "name": "stdout",
     "output_type": "stream",
     "text": [
      "* tornillos (10)\n",
      "* lija (2)\n",
      "* cualquiera (10)\n",
      "* cosa (40)\n"
     ]
    }
   ],
   "source": [
    "itemizar(tornillos=10, lija=2, cualquiera=10, cosa=40)"
   ]
  },
  {
   "cell_type": "markdown",
   "id": "29f502a2",
   "metadata": {},
   "source": [
    "En resúmen, con `*args` se indica *\"mapear todos los argumentos posicionales no explícitos a una tupla llamada `args`\"*. Y con `**kwargs` se indica \"mapear todos los argumentos de palabra clave no explícitos a un diccionario llamado `kwargs`\"."
   ]
  },
  {
   "cell_type": "code",
   "execution_count": 36,
   "id": "2890b048",
   "metadata": {
    "tags": []
   },
   "outputs": [],
   "source": [
    "def f(a1,*args,**kwargs):\n",
    "    print('a1=', a1)\n",
    "    print('args=', args)\n",
    "    print('kwargs=', kwargs)\n",
    "\n",
    "\n"
   ]
  },
  {
   "cell_type": "code",
   "execution_count": 37,
   "id": "f2ce55a2-eb81-437b-a2c8-60efa8ebf345",
   "metadata": {},
   "outputs": [
    {
     "ename": "TypeError",
     "evalue": "f() missing 1 required positional argument: 'a1'",
     "output_type": "error",
     "traceback": [
      "\u001b[0;31m---------------------------------------------------------------------------\u001b[0m",
      "\u001b[0;31mTypeError\u001b[0m                                 Traceback (most recent call last)",
      "Input \u001b[0;32mIn [37]\u001b[0m, in \u001b[0;36m<module>\u001b[0;34m\u001b[0m\n\u001b[0;32m----> 1\u001b[0m \u001b[43mf\u001b[49m\u001b[43m(\u001b[49m\u001b[43m)\u001b[49m\n",
      "\u001b[0;31mTypeError\u001b[0m: f() missing 1 required positional argument: 'a1'"
     ]
    }
   ],
   "source": [
    "f(1)"
   ]
  },
  {
   "cell_type": "code",
   "execution_count": 38,
   "id": "6eeda775",
   "metadata": {},
   "outputs": [
    {
     "name": "stdout",
     "output_type": "stream",
     "text": [
      "a1= 4\n",
      "args= ()\n",
      "kwargs= {}\n"
     ]
    }
   ],
   "source": [
    "f(4)   # solo definido el parámetro común a"
   ]
  },
  {
   "cell_type": "code",
   "execution_count": 39,
   "id": "ba50769f",
   "metadata": {},
   "outputs": [
    {
     "name": "stdout",
     "output_type": "stream",
     "text": [
      "a1= valor\n",
      "args= (1, 2)\n",
      "kwargs= {}\n"
     ]
    }
   ],
   "source": [
    "f('valor', 1, 2)    # 'a1' y dos argumentos posicionales arbitrarios"
   ]
  },
  {
   "cell_type": "code",
   "execution_count": 40,
   "id": "b745ecc7",
   "metadata": {},
   "outputs": [
    {
     "name": "stdout",
     "output_type": "stream",
     "text": [
      "a1= 2\n",
      "args= (1, 2)\n",
      "kwargs= {'color': 'azul', 'detallado': True}\n"
     ]
    }
   ],
   "source": [
    "f('2', 1, 2, color='azul', detallado=True)   # "
   ]
  },
  {
   "cell_type": "code",
   "execution_count": 41,
   "id": "1479c9bd-385e-45de-b080-4203179f8eff",
   "metadata": {},
   "outputs": [
    {
     "name": "stdout",
     "output_type": "stream",
     "text": [
      "a1= 2\n",
      "args= ()\n",
      "kwargs= {'color': 'azul', 'detallado': True}\n"
     ]
    }
   ],
   "source": [
    "f('2', color='azul', detallado=True)   # "
   ]
  },
  {
   "cell_type": "markdown",
   "id": "3bcd0d8f",
   "metadata": {},
   "source": [
    "\n",
    "\n",
    "<div class=\"alert alert-warning\">** NOTA **: No es necesario los nombres \"args\" y \"kwargs\", podemos llamarlas diferente, pero es una convención muy extendida. Estrictamente, los simbolos que indican cantidades arbitrarias de parametros son `*` y `**`. Además es posible poner parametros \"comunes\" antes de los parametros arbritarios.</div>\n",
    "\n",
    "\n",
    "\n"
   ]
  },
  {
   "cell_type": "markdown",
   "id": "e94c103c",
   "metadata": {},
   "source": [
    "\n",
    "### La inversa: Desempacar secuencias o diccionarios directamente como argumentos\n",
    "\n",
    "Si ya tengo los parámetros que quiero pasar a una función, los \"desempaco\". \n"
   ]
  },
  {
   "cell_type": "code",
   "execution_count": 42,
   "id": "9e50fcf6",
   "metadata": {},
   "outputs": [
    {
     "data": {
      "text/plain": [
       "'hola José, ¿cómo va?'"
      ]
     },
     "execution_count": 42,
     "metadata": {},
     "output_type": "execute_result"
    }
   ],
   "source": [
    "otra_data = ('hola', '¿cómo va?')\n",
    "\n",
    "saludo, sufijo = otra_data\n",
    "\n",
    "saludar('José', saludo, sufijo)   # el primer elemento desempacado, va al primer arg posicional disponible... \n"
   ]
  },
  {
   "cell_type": "code",
   "execution_count": 46,
   "id": "e9b7286b-e69f-4d8b-80d8-f52aeb7ba3f9",
   "metadata": {},
   "outputs": [
    {
     "data": {
      "text/plain": [
       "\u001b[0;31mSignature:\u001b[0m \u001b[0msaludar\u001b[0m\u001b[0;34m(\u001b[0m\u001b[0mnombre\u001b[0m\u001b[0;34m,\u001b[0m \u001b[0msaludo\u001b[0m\u001b[0;34m=\u001b[0m\u001b[0;34m'Hola'\u001b[0m\u001b[0;34m,\u001b[0m \u001b[0msufijo\u001b[0m\u001b[0;34m=\u001b[0m\u001b[0;34m'¿qué tal?'\u001b[0m\u001b[0;34m)\u001b[0m\u001b[0;34m\u001b[0m\u001b[0;34m\u001b[0m\u001b[0m\n",
       "\u001b[0;31mDocstring:\u001b[0m\n",
       "Dado un nombre y, opcionalmente, un saludo y/o sufijo, devuelve \n",
       "una cadena saludo + nombre + sufijo\n",
       "\u001b[0;31mFile:\u001b[0m      /tmp/ipykernel_34443/3731281139.py\n",
       "\u001b[0;31mType:\u001b[0m      function\n"
      ]
     },
     "metadata": {},
     "output_type": "display_data"
    }
   ],
   "source": [
    "saludar?"
   ]
  },
  {
   "cell_type": "code",
   "execution_count": 45,
   "id": "1291da6b",
   "metadata": {},
   "outputs": [
    {
     "data": {
      "text/plain": [
       "'hola José, ¿cómo va?'"
      ]
     },
     "execution_count": 45,
     "metadata": {},
     "output_type": "execute_result"
    }
   ],
   "source": [
    "saludar('José', *otra_data)   # igual a saludar('José', otra_data[0], otra_data[1])"
   ]
  },
  {
   "cell_type": "code",
   "execution_count": 44,
   "id": "7066656f",
   "metadata": {},
   "outputs": [
    {
     "ename": "TypeError",
     "evalue": "saludar() got an unexpected keyword argument 'otra'",
     "output_type": "error",
     "traceback": [
      "\u001b[0;31m---------------------------------------------------------------------------\u001b[0m",
      "\u001b[0;31mTypeError\u001b[0m                                 Traceback (most recent call last)",
      "Input \u001b[0;32mIn [44]\u001b[0m, in \u001b[0;36m<module>\u001b[0;34m\u001b[0m\n\u001b[1;32m      1\u001b[0m mi_data \u001b[38;5;241m=\u001b[39m {\u001b[38;5;124m'\u001b[39m\u001b[38;5;124mnombre\u001b[39m\u001b[38;5;124m'\u001b[39m: \u001b[38;5;124m'\u001b[39m\u001b[38;5;124mCristian\u001b[39m\u001b[38;5;124m'\u001b[39m, \u001b[38;5;124m'\u001b[39m\u001b[38;5;124msaludo\u001b[39m\u001b[38;5;124m'\u001b[39m: \u001b[38;5;124m'\u001b[39m\u001b[38;5;124mEy\u001b[39m\u001b[38;5;124m'\u001b[39m, \u001b[38;5;124m'\u001b[39m\u001b[38;5;124msufijo\u001b[39m\u001b[38;5;124m'\u001b[39m: \u001b[38;5;124m'\u001b[39m\u001b[38;5;124mqué onda?\u001b[39m\u001b[38;5;124m'\u001b[39m, \u001b[38;5;124m'\u001b[39m\u001b[38;5;124motra\u001b[39m\u001b[38;5;124m'\u001b[39m: \u001b[38;5;124m'\u001b[39m\u001b[38;5;124mcolor\u001b[39m\u001b[38;5;124m'\u001b[39m}\n\u001b[0;32m----> 3\u001b[0m \u001b[43msaludar\u001b[49m\u001b[43m(\u001b[49m\u001b[38;5;241;43m*\u001b[39;49m\u001b[38;5;241;43m*\u001b[39;49m\u001b[43mmi_data\u001b[49m\u001b[43m)\u001b[49m\n",
      "\u001b[0;31mTypeError\u001b[0m: saludar() got an unexpected keyword argument 'otra'"
     ]
    }
   ],
   "source": [
    "mi_data = {'nombre': 'Cristian', 'saludo': 'Ey', 'sufijo': 'qué onda?', 'otra': 'color'}\n",
    "\n",
    "saludar(**mi_data)"
   ]
  },
  {
   "cell_type": "code",
   "execution_count": 47,
   "id": "c24a1bb0-cdb5-45e2-bf4f-b8712eddcc70",
   "metadata": {},
   "outputs": [
    {
     "data": {
      "text/plain": [
       "'Ey Cristian, qué onda?'"
      ]
     },
     "execution_count": 47,
     "metadata": {},
     "output_type": "execute_result"
    }
   ],
   "source": [
    "mi_data = {'nombre': 'Cristian', 'saludo': 'Ey', 'sufijo': 'qué onda?'}\n",
    "\n",
    "saludar(**mi_data)"
   ]
  },
  {
   "cell_type": "code",
   "execution_count": 56,
   "id": "3527ca02",
   "metadata": {
    "tags": []
   },
   "outputs": [],
   "source": [
    "def saludar2(nombre, saludo=\"Hola\", sufijo=\"¿qué tal?\", **kwargs):\n",
    "    \"\"\"Dado un nombre y, opcionalmente, un saludo y/o sufijo, devuelve \n",
    "    una cadena saludo + nombre + sufijo\"\"\"\n",
    "    a = 42\n",
    "    print(locals())\n",
    "    return f\"{saludo} {nombre}, {sufijo}\"  #la funcion locals() devuelve el diccionario de todos los objetos definidos en el espacio de nombres"
   ]
  },
  {
   "cell_type": "code",
   "execution_count": 57,
   "id": "9d0d0be4",
   "metadata": {},
   "outputs": [
    {
     "name": "stdout",
     "output_type": "stream",
     "text": [
      "{'nombre': 'Cristian', 'saludo': 'Ey', 'sufijo': 'qué onda?', 'kwargs': {'otra': 'otra cosa'}, 'a': 42}\n"
     ]
    },
    {
     "data": {
      "text/plain": [
       "'Ey Cristian, qué onda?'"
      ]
     },
     "execution_count": 57,
     "metadata": {},
     "output_type": "execute_result"
    }
   ],
   "source": [
    "mi_data = {'nombre': 'Cristian', 'saludo': 'Ey', 'sufijo': 'qué onda?', \"otra\": \"otra cosa\"}\n",
    "saludar2(**mi_data)"
   ]
  },
  {
   "cell_type": "code",
   "execution_count": 60,
   "id": "7764ade9-cca0-4548-ad2c-2c952951032c",
   "metadata": {},
   "outputs": [
    {
     "data": {
      "text/plain": [
       "\"{'dic': 'algo'}\""
      ]
     },
     "execution_count": 60,
     "metadata": {},
     "output_type": "execute_result"
    }
   ],
   "source": [
    "str({\"dic\": \"algo\"})"
   ]
  },
  {
   "cell_type": "code",
   "execution_count": null,
   "id": "5f36f9da-ed38-406f-9199-e4f4e1314b95",
   "metadata": {},
   "outputs": [],
   "source": [
    "def saludar2(nombre, saludo=\"Hola\", sufijo=\"¿qué tal?\", **kwargs):\n",
    "    \"\"\"Dado un nombre y, opcionalmente, un saludo y/o sufijo, devuelve \n",
    "    una cadena saludo + nombre + sufijo\"\"\"\n",
    "    a = 42\n",
    "    print(locals())\n",
    "    return f\"{saludo} {nombre}, {sufijo} {kwargs}\""
   ]
  },
  {
   "cell_type": "markdown",
   "id": "0c8f2058",
   "metadata": {},
   "source": [
    "Obviamente, si pasamos más parámetros de los esperados por la función (y no permite parámetros arbritrarios), dará un error"
   ]
  },
  {
   "cell_type": "code",
   "execution_count": null,
   "id": "9d558472",
   "metadata": {
    "collapsed": true,
    "jupyter": {
     "outputs_hidden": true
    }
   },
   "outputs": [],
   "source": [
    "mi_data = {'nombre': 'Cristian', 'saludo': 'Ey', 'sufijo': 'qué onda', 'color': 'roja'}\n",
    "saludar(**mi_data)"
   ]
  },
  {
   "cell_type": "markdown",
   "id": "83925b60",
   "metadata": {},
   "source": [
    "### Ejercicios\n",
    "\n",
    "1. Dada las función `prod` y `marquesina` definidas con anterioridad, redefina `prod` agregando un parámetro opcional `enmamarcar` (`False` por defecto) que si es verdadero devuelve el resultado de la productoria en una marquesina. Cualquier otro parámetro se pasa directamente a la función marquesina. \n",
    "\n",
    "<!-- https://gist.githubusercontent.com/mgaitan/6bda75780aa826b45d09/raw/a1fb74873c98f4dff1b3689dae7246c490fb88ec/prod_enmarcable.py -->\n"
   ]
  },
  {
   "cell_type": "code",
   "execution_count": 63,
   "id": "fb985bf1-0862-4a20-8f5e-d2650a2d96f7",
   "metadata": {},
   "outputs": [
    {
     "data": {
      "text/plain": [
       "6"
      ]
     },
     "execution_count": 63,
     "metadata": {},
     "output_type": "execute_result"
    }
   ],
   "source": [
    "prod(1, 2, 3)"
   ]
  },
  {
   "cell_type": "code",
   "execution_count": 67,
   "id": "f97bc180-912e-4355-ad01-506d17e79a0d",
   "metadata": {},
   "outputs": [
    {
     "name": "stdout",
     "output_type": "stream",
     "text": [
      "@@@@@@@@@@@@@@@@@@@@@@@@@@@@@@@@@@@@@@@@@@@@@@@@@@@@@@@@@@@@\n",
      "@                                                          @\n",
      "@                            6                             @\n",
      "@                                                          @\n",
      "@@@@@@@@@@@@@@@@@@@@@@@@@@@@@@@@@@@@@@@@@@@@@@@@@@@@@@@@@@@@\n"
     ]
    }
   ],
   "source": [
    "def prod_con_marquesina(*numeros, enmarcar=False, **kwargs):\n",
    "    \n",
    "    resultado = prod(*numeros)\n",
    "    if enmarcar:\n",
    "        return marquesina(resultado, **kwargs)\n",
    "    return resultado\n",
    "\n",
    "print(prod_con_marquesina(1, 2, 3, enmarcar=True, caracter=\"@\"))"
   ]
  },
  {
   "cell_type": "code",
   "execution_count": 72,
   "id": "88449830-2d71-4614-ae89-89ae0d26a2df",
   "metadata": {},
   "outputs": [],
   "source": [
    "def saludo3(hola=1, **kwags): return hola"
   ]
  },
  {
   "cell_type": "code",
   "execution_count": 73,
   "id": "13608da3-7811-46ab-b357-433c8bed1c70",
   "metadata": {},
   "outputs": [
    {
     "data": {
      "text/plain": [
       "1"
      ]
     },
     "execution_count": 73,
     "metadata": {},
     "output_type": "execute_result"
    }
   ],
   "source": [
    "saludo3(halo=2)"
   ]
  },
  {
   "cell_type": "markdown",
   "id": "a8c57294",
   "metadata": {},
   "source": [
    "### Argumentos *sólo por nombre*\n",
    "\n",
    "La posibilidad pasar una cantidad arbitraria de argumentos, sea por posición o por nombre, es una ventaja que vuelve a Python muy poderoso. \n"
   ]
  },
  {
   "cell_type": "code",
   "execution_count": 77,
   "id": "b7626dfd",
   "metadata": {},
   "outputs": [
    {
     "data": {
      "text/plain": [
       "'HOLA CURSO!'"
      ]
     },
     "execution_count": 77,
     "metadata": {},
     "output_type": "execute_result"
    }
   ],
   "source": [
    "def f(*args, mayus=False):\n",
    "    s = ' '.join(str(i) for i in args)\n",
    "    return s.upper() if mayus else s\n",
    "\n",
    "f('hola', 'curso!', mayus=True)"
   ]
  },
  {
   "cell_type": "markdown",
   "id": "781087e9",
   "metadata": {},
   "source": [
    "Obviamente, en ese caso la única forma de \"setear\" la opción `mayus` es a **explícitamente a través del nombre**, porque de otra manera el argumento sería capturado por la tupla de argumentos posicionales `*args`. \n",
    "\n",
    "Más aun, Python 3 también permite este tipo de **argumentos sólo por nombre** sin estar precedidos por argumentos variables y muchas veces son muy útiles. \n",
    "\n"
   ]
  },
  {
   "cell_type": "code",
   "execution_count": 78,
   "id": "1206dc37",
   "metadata": {},
   "outputs": [
    {
     "name": "stdout",
     "output_type": "stream",
     "text": [
      "************************************************************\n",
      "*                                                          *\n",
      "*                            3                             *\n",
      "*                                                          *\n",
      "************************************************************\n"
     ]
    }
   ],
   "source": [
    "\n",
    "def sumar(a, b, enmarcar=False):\n",
    "    result = a + b\n",
    "    if enmarcar:\n",
    "        return marquesina(result)\n",
    "    return result\n",
    "\n",
    "print(sumar(1, 2, True))\n"
   ]
  },
  {
   "cell_type": "code",
   "execution_count": 80,
   "id": "97b34bbd",
   "metadata": {},
   "outputs": [
    {
     "name": "stdout",
     "output_type": "stream",
     "text": [
      "************************************************************\n",
      "*                                                          *\n",
      "*                            3                             *\n",
      "*                                                          *\n",
      "************************************************************\n"
     ]
    }
   ],
   "source": [
    "print(sumar(1, 2, 3))  # bug"
   ]
  },
  {
   "cell_type": "markdown",
   "id": "aa3583ad",
   "metadata": {},
   "source": [
    "Se soluciona con un asterístico para avisar que **comienzan argumentos asignables sólo por nombre**"
   ]
  },
  {
   "cell_type": "code",
   "execution_count": 82,
   "id": "13600457",
   "metadata": {},
   "outputs": [
    {
     "data": {
      "text/plain": [
       "'************************************************************\\n*                                                          *\\n*                            3                             *\\n*                                                          *\\n************************************************************'"
      ]
     },
     "execution_count": 82,
     "metadata": {},
     "output_type": "execute_result"
    }
   ],
   "source": [
    "def sumar(a, b, *, enmarcar=False):\n",
    "    result = a + b\n",
    "    if enmarcar:\n",
    "        return marquesina(result)\n",
    "    return result\n",
    "\n",
    "sumar(1,2,enmarcar=True)"
   ]
  },
  {
   "cell_type": "code",
   "execution_count": null,
   "id": "6bb9a705",
   "metadata": {},
   "outputs": [],
   "source": [
    "print(sumar(1,2, enmarcar=True))"
   ]
  },
  {
   "cell_type": "markdown",
   "id": "98afd004",
   "metadata": {},
   "source": [
    "Despues de todo, explícito es mejor que implícito, ente otras cosas "
   ]
  },
  {
   "cell_type": "code",
   "execution_count": null,
   "id": "80d6d7fa",
   "metadata": {},
   "outputs": [],
   "source": [
    "%%python3\n",
    "import this"
   ]
  },
  {
   "cell_type": "markdown",
   "id": "14a96fc3",
   "metadata": {},
   "source": [
    "### Espacios de nombre y paso por asignación\n",
    "\n",
    "Una función define un **espacio de nombre** (namespace), es decir, un contexto donde un nombre de variable refiere a un objeto unívoco dentro de ese espacio. Si un nombre no existe en el espacio de nombre local, se busca en el espacio global (módulo o sesión)\n"
   ]
  },
  {
   "cell_type": "code",
   "execution_count": 83,
   "id": "7ede2898",
   "metadata": {},
   "outputs": [
    {
     "data": {
      "text/plain": [
       "3.14"
      ]
     },
     "execution_count": 83,
     "metadata": {},
     "output_type": "execute_result"
    }
   ],
   "source": [
    "pi = 3.14\n",
    "\n",
    "def area(r):\n",
    "    return pi * r * r       # pi no está en en el espacio local, se usa el definido fuera de la función\n",
    "\n",
    "r1 =1\n",
    "area(r1)"
   ]
  },
  {
   "cell_type": "code",
   "execution_count": null,
   "id": "3beb2f3e",
   "metadata": {},
   "outputs": [],
   "source": [
    "pi = 3.14\n",
    "\n",
    "def area2(r):\n",
    "    return pi * r * r      # en este caso, se usa el pi pasado a la función\n",
    "\n",
    "print(area2(1))\n",
    "print(pi)                      # pero afuera sigue valiendo el del espacio global"
   ]
  },
  {
   "cell_type": "markdown",
   "id": "44694548",
   "metadata": {},
   "source": [
    "tip: dentro de cualquier namespace, la función `locals()` devuelve el diccionario de nombres definidos"
   ]
  },
  {
   "cell_type": "code",
   "execution_count": 84,
   "id": "56aab1a4",
   "metadata": {},
   "outputs": [
    {
     "name": "stdout",
     "output_type": "stream",
     "text": [
      "{'a': '1', 'b': 'algo', 'BLAH': 'bleh'}\n"
     ]
    }
   ],
   "source": [
    "pi = 2\n",
    "def namespaces(a, b):\n",
    "    BLAH = 'bleh'\n",
    "    print(locals())    \n",
    "\n",
    "namespaces('1', b='algo')"
   ]
  },
  {
   "cell_type": "markdown",
   "id": "038ccac1",
   "metadata": {},
   "source": [
    "En python se dice que los argumentos se pasan \"por asignación\", es decir, se asigna un nombre en el espacio de nombres local a un objeto existente, independientemente de si ya tiene un nombre en el espacio global.  **Pero si ese objeto es mutable, la función podría modificar el objeto**\n"
   ]
  },
  {
   "cell_type": "code",
   "execution_count": 85,
   "id": "3d841fb4",
   "metadata": {},
   "outputs": [
    {
     "name": "stdout",
     "output_type": "stream",
     "text": [
      "[10, 'b']\n"
     ]
    }
   ],
   "source": [
    "def f2(l):\n",
    "    l[0] = 10   \n",
    "    return l\n",
    "\n",
    "\n",
    "lista = ['a', 'b']\n",
    "print(f2(lista))"
   ]
  },
  {
   "cell_type": "code",
   "execution_count": 86,
   "id": "0f9c6713-3665-473d-80bb-be621f9e453c",
   "metadata": {},
   "outputs": [
    {
     "data": {
      "text/plain": [
       "[10, 'b']"
      ]
     },
     "execution_count": 86,
     "metadata": {},
     "output_type": "execute_result"
    }
   ],
   "source": [
    "lista"
   ]
  },
  {
   "cell_type": "code",
   "execution_count": 87,
   "id": "8d61a864",
   "metadata": {},
   "outputs": [
    {
     "name": "stdout",
     "output_type": "stream",
     "text": [
      "[10, 'b']\n"
     ]
    }
   ],
   "source": [
    "def f3(l):\n",
    "    l1 = l.copy()\n",
    "    l1[0] = 10\n",
    "    return l1\n",
    "\n",
    "\n",
    "lista = ['a', 'b']\n",
    "print(f3(lista))"
   ]
  },
  {
   "cell_type": "code",
   "execution_count": 88,
   "id": "c17e5874",
   "metadata": {
    "tags": []
   },
   "outputs": [
    {
     "data": {
      "text/plain": [
       "['a', 'b']"
      ]
     },
     "execution_count": 88,
     "metadata": {},
     "output_type": "execute_result"
    }
   ],
   "source": [
    "# pero se modificó el objeto fuera de la funcion\n",
    "lista"
   ]
  },
  {
   "cell_type": "markdown",
   "id": "02d0920b",
   "metadata": {},
   "source": [
    "En general, siempre es mejor que la funciones devuelvan objetos nuevos"
   ]
  },
  {
   "cell_type": "code",
   "execution_count": 89,
   "id": "a0c2c330",
   "metadata": {
    "tags": []
   },
   "outputs": [
    {
     "name": "stdout",
     "output_type": "stream",
     "text": [
      "[10, 'b']\n"
     ]
    },
    {
     "data": {
      "text/plain": [
       "['a', 'b']"
      ]
     },
     "execution_count": 89,
     "metadata": {},
     "output_type": "execute_result"
    }
   ],
   "source": [
    "def f2(l):\n",
    "    return [10] + l[1:]\n",
    "\n",
    "lista = ['a', 'b']\n",
    "print(f2(lista))\n",
    "lista\n"
   ]
  },
  {
   "cell_type": "code",
   "execution_count": null,
   "id": "01e01840-01c3-4807-9938-a914187f3014",
   "metadata": {},
   "outputs": [],
   "source": []
  },
  {
   "cell_type": "code",
   "execution_count": 93,
   "id": "dda3a05c-85da-4ace-9eac-322fc96af3d3",
   "metadata": {},
   "outputs": [],
   "source": [
    "def append_element(element, list=[]):\n",
    "    list.append(element)\n",
    "    return list"
   ]
  },
  {
   "cell_type": "code",
   "execution_count": 94,
   "id": "8ecb089f-7db2-4e80-abd3-4b94f949da39",
   "metadata": {},
   "outputs": [
    {
     "data": {
      "text/plain": [
       "[1]"
      ]
     },
     "execution_count": 94,
     "metadata": {},
     "output_type": "execute_result"
    }
   ],
   "source": [
    "append_element(1)\n",
    "\n"
   ]
  },
  {
   "cell_type": "code",
   "execution_count": 95,
   "id": "93415e1d-a70e-41f8-ac9b-036ce230ff91",
   "metadata": {},
   "outputs": [
    {
     "data": {
      "text/plain": [
       "[1, 2]"
      ]
     },
     "execution_count": 95,
     "metadata": {},
     "output_type": "execute_result"
    }
   ],
   "source": [
    "append_element(2)"
   ]
  },
  {
   "cell_type": "code",
   "execution_count": 104,
   "id": "1673dc76-9e77-47e6-9707-7e037e5ce06d",
   "metadata": {},
   "outputs": [
    {
     "data": {
      "text/plain": [
       "[1]"
      ]
     },
     "execution_count": 104,
     "metadata": {},
     "output_type": "execute_result"
    }
   ],
   "source": [
    "def append_element(element, container= None):\n",
    "    container = container or []\n",
    "    container.append(element)\n",
    "    return container\n",
    "\n",
    "append_element(1)"
   ]
  },
  {
   "cell_type": "code",
   "execution_count": 105,
   "id": "b48d9539-a4a5-4ff3-8294-6966e786155a",
   "metadata": {},
   "outputs": [
    {
     "data": {
      "text/plain": [
       "[2]"
      ]
     },
     "execution_count": 105,
     "metadata": {},
     "output_type": "execute_result"
    }
   ],
   "source": [
    "append_element(2)"
   ]
  },
  {
   "cell_type": "code",
   "execution_count": 106,
   "id": "f00df888-6c51-469f-9f17-baab5b424f59",
   "metadata": {},
   "outputs": [
    {
     "data": {
      "text/plain": [
       "[1, 3]"
      ]
     },
     "execution_count": 106,
     "metadata": {},
     "output_type": "execute_result"
    }
   ],
   "source": [
    "append_element(3, [1])"
   ]
  },
  {
   "cell_type": "code",
   "execution_count": 111,
   "id": "005ead2b-eade-4779-8905-ec0d173d2bee",
   "metadata": {},
   "outputs": [],
   "source": [
    "import typing"
   ]
  },
  {
   "cell_type": "code",
   "execution_count": 119,
   "id": "55f8924e-16d9-47b2-bc4e-5c0b4cdf482f",
   "metadata": {},
   "outputs": [
    {
     "data": {
      "text/plain": [
       "[1]"
      ]
     },
     "execution_count": 119,
     "metadata": {},
     "output_type": "execute_result"
    }
   ],
   "source": [
    "def append_element(element, container: typing.Optional[list]=() ):\n",
    "    return list(container + (element,))\n",
    "    \n",
    "append_element(1)"
   ]
  },
  {
   "cell_type": "code",
   "execution_count": 96,
   "id": "273e51ed-0615-4f85-b60b-512abbe44481",
   "metadata": {},
   "outputs": [
    {
     "ename": "TypeError",
     "evalue": "'str' object does not support item assignment",
     "output_type": "error",
     "traceback": [
      "\u001b[0;31m---------------------------------------------------------------------------\u001b[0m",
      "\u001b[0;31mTypeError\u001b[0m                                 Traceback (most recent call last)",
      "Input \u001b[0;32mIn [96]\u001b[0m, in \u001b[0;36m<module>\u001b[0;34m\u001b[0m\n\u001b[1;32m      1\u001b[0m s \u001b[38;5;241m=\u001b[39m \u001b[38;5;124m\"\u001b[39m\u001b[38;5;124mhola\u001b[39m\u001b[38;5;124m\"\u001b[39m\n\u001b[0;32m----> 2\u001b[0m s[\u001b[38;5;241m0\u001b[39m] \u001b[38;5;241m=\u001b[39m \u001b[38;5;124m\"\u001b[39m\u001b[38;5;124mb\u001b[39m\u001b[38;5;124m\"\u001b[39m\n",
      "\u001b[0;31mTypeError\u001b[0m: 'str' object does not support item assignment"
     ]
    }
   ],
   "source": [
    "s = \"hola\"\n",
    "s[0] = \"b\""
   ]
  },
  {
   "cell_type": "code",
   "execution_count": null,
   "id": "63cf7829-d92c-4946-a656-a820b47cc107",
   "metadata": {},
   "outputs": [],
   "source": [
    "def saludo(nombre, prefix=\"hola\"):\n",
    "    resultado = hola + \" \" + nombre\n",
    "    "
   ]
  },
  {
   "cell_type": "code",
   "execution_count": null,
   "id": "c8e82c41-f524-4f84-b419-bf91fafa8e8e",
   "metadata": {},
   "outputs": [],
   "source": []
  },
  {
   "cell_type": "code",
   "execution_count": 121,
   "id": "1713dc9f-a1cd-442c-95a3-468c2bf9ce67",
   "metadata": {},
   "outputs": [],
   "source": [
    "def duplica(elemento):\n",
    "    return elemento, elemento"
   ]
  },
  {
   "cell_type": "code",
   "execution_count": 122,
   "id": "817c4611-cfdf-4950-9b4e-23dc6a5619b4",
   "metadata": {},
   "outputs": [],
   "source": [
    "a, b = duplica(12)"
   ]
  },
  {
   "cell_type": "code",
   "execution_count": 123,
   "id": "621557c8-e47d-41ab-bc53-7083b6320269",
   "metadata": {},
   "outputs": [
    {
     "data": {
      "text/plain": [
       "(12, 12)"
      ]
     },
     "execution_count": 123,
     "metadata": {},
     "output_type": "execute_result"
    }
   ],
   "source": [
    "a, b"
   ]
  },
  {
   "cell_type": "code",
   "execution_count": 124,
   "id": "544278fe-99cb-453d-ada5-e77b2dd06d3a",
   "metadata": {},
   "outputs": [
    {
     "data": {
      "text/plain": [
       "True"
      ]
     },
     "execution_count": 124,
     "metadata": {},
     "output_type": "execute_result"
    }
   ],
   "source": [
    "isinstance(duplica, object)"
   ]
  },
  {
   "cell_type": "markdown",
   "id": "039e34a6",
   "metadata": {},
   "source": [
    "### Ejercicios \n",
    "\n",
    "* Una función puede retornar cualquier objeto y en Python todo es un objeto. Defina una [función de orden superior](https://es.wikipedia.org/wiki/Funci%C3%B3n_de_orden_superior) (función que devuelve funciones) llamada `lineal` que dados los coeficientes `a` y `b` devuelve $$f(x) = ax + b$$\n",
    "\n",
    "* Mejorar la función anterior, generando un docstring dinámico para cada función devuelta indicando la función lineal específica que resuelve\n",
    "\n",
    "\n",
    "<!-- https://gist.githubusercontent.com/mgaitan/a5fac459bf360f54d96e/raw/3b0d50048503399662cca97fb7c62025cdecb6cc/lineal_factory.py -->"
   ]
  },
  {
   "cell_type": "code",
   "execution_count": 127,
   "id": "3b82907b-570e-4aed-aea2-1130fd7e843f",
   "metadata": {},
   "outputs": [],
   "source": [
    "# %load https://gist.githubusercontent.com/mgaitan/a5fac459bf360f54d96e/raw/3b0d50048503399662cca97fb7c62025cdecb6cc/lineal_factory.py\n",
    "def lineal(a,b):\n",
    "    \n",
    "    def f(x):\n",
    "        return a*x + b\n",
    "    f.__doc__ = \"Calcula {}x + {}\".format(a, b)\n",
    "    return f"
   ]
  },
  {
   "cell_type": "code",
   "execution_count": 128,
   "id": "86d22104-32c4-444b-8313-fbb740606e23",
   "metadata": {},
   "outputs": [],
   "source": [
    "f1 = lineal(a=2, b=0)"
   ]
  },
  {
   "cell_type": "code",
   "execution_count": 129,
   "id": "20f20645-2da1-42ab-8a17-6f1fba1d576a",
   "metadata": {},
   "outputs": [
    {
     "data": {
      "text/plain": [
       "4"
      ]
     },
     "execution_count": 129,
     "metadata": {},
     "output_type": "execute_result"
    }
   ],
   "source": [
    "f1(2)"
   ]
  },
  {
   "cell_type": "code",
   "execution_count": null,
   "id": "e28798c7-f5bd-416b-b1e0-45abd4f8764c",
   "metadata": {},
   "outputs": [],
   "source": []
  },
  {
   "cell_type": "markdown",
   "id": "e81be08b-a2be-4258-863f-d1bddb820bc1",
   "metadata": {},
   "source": [
    "## Lambdas\n",
    "\n",
    "    "
   ]
  },
  {
   "cell_type": "code",
   "execution_count": 130,
   "id": "2c53e07f-7257-425a-85b5-29d49c8ec1de",
   "metadata": {},
   "outputs": [],
   "source": [
    "def cuadrado(numero):\n",
    "    return numero**2"
   ]
  },
  {
   "cell_type": "code",
   "execution_count": 131,
   "id": "97677684-861b-45e5-bdee-ce66bd6a386a",
   "metadata": {},
   "outputs": [],
   "source": [
    "cuadrado2 = lambda numero: numero**2"
   ]
  },
  {
   "cell_type": "code",
   "execution_count": 132,
   "id": "9060e3a7-29f0-4bae-b0e1-d67378adff27",
   "metadata": {},
   "outputs": [
    {
     "data": {
      "text/plain": [
       "True"
      ]
     },
     "execution_count": 132,
     "metadata": {},
     "output_type": "execute_result"
    }
   ],
   "source": [
    "all(cuadrado2(i) == cuadrado(i) for i in range(100))"
   ]
  },
  {
   "cell_type": "code",
   "execution_count": 137,
   "id": "5baf0c4b-7f8d-4acb-a6f2-12a0ba6d63e0",
   "metadata": {},
   "outputs": [],
   "source": [
    "from functools import reduce"
   ]
  },
  {
   "cell_type": "code",
   "execution_count": null,
   "id": "bed4f14c-8dcc-48a8-b474-e68bd8f51f94",
   "metadata": {},
   "outputs": [],
   "source": [
    "map"
   ]
  },
  {
   "cell_type": "code",
   "execution_count": 135,
   "id": "408215e0-a088-47f6-815f-060edb365162",
   "metadata": {},
   "outputs": [
    {
     "data": {
      "text/plain": [
       "[0, 1, 4, 9, 16, 25, 36, 49, 64, 81]"
      ]
     },
     "execution_count": 135,
     "metadata": {},
     "output_type": "execute_result"
    }
   ],
   "source": [
    "list(map(lambda x: x**2, range(10)))"
   ]
  },
  {
   "cell_type": "code",
   "execution_count": 136,
   "id": "67f10398-8b13-477a-90af-e7bde8c8ed62",
   "metadata": {},
   "outputs": [
    {
     "data": {
      "text/plain": [
       "[0, 1, 4, 9, 16, 25, 36, 49, 64, 81]"
      ]
     },
     "execution_count": 136,
     "metadata": {},
     "output_type": "execute_result"
    }
   ],
   "source": [
    "[x**2 for x in range(10)]"
   ]
  },
  {
   "cell_type": "markdown",
   "id": "3bb75c7f",
   "metadata": {},
   "source": [
    "## Generadores\n",
    "\n",
    "\n",
    "\n",
    "Los generadores son similares a las funciones, pero permiten crear **una serie de resultados** para ser iterados (o sea, genera un iterador), devolviendo un valor por cada llamada. Ejemplos de funciones generadoras son `zip`, `enumerate`, `range` y `reversed`, que ya vimos. \n",
    "\n",
    "También mencionamos la versión por comprensión `(f(x) for x in iter)`. La forma funcional es casi igual a la las funciones comunes, pero en vez de `return` se utiliza `yield` que funciona como **una pausa** (devolviendo opcionalmente un valor) en la ejecución.\n"
   ]
  },
  {
   "cell_type": "code",
   "execution_count": null,
   "id": "53b2cd28",
   "metadata": {
    "collapsed": true,
    "jupyter": {
     "outputs_hidden": true
    }
   },
   "outputs": [],
   "source": [
    "def generador_ejemplo():\n",
    "    print('antes del primer yield')\n",
    "    yield 1               # sale devolviendo. la proxima llamada comenzará en la siguiente linea\n",
    "    print('antes del segundo')\n",
    "    yield                 # como return, puede devolver None\n",
    "    print('antes del último')\n",
    "    yield 10\n",
    "    print('final')"
   ]
  },
  {
   "cell_type": "code",
   "execution_count": null,
   "id": "f860f093",
   "metadata": {},
   "outputs": [],
   "source": [
    "valores = generador_ejemplo()\n",
    "valores"
   ]
  },
  {
   "cell_type": "markdown",
   "id": "fcc2ec75",
   "metadata": {},
   "source": [
    "Para pedirles los valores uno a uno a un iterador (un generador es siempre un iterador), podemos usar la función `next`"
   ]
  },
  {
   "cell_type": "code",
   "execution_count": null,
   "id": "390e2d07",
   "metadata": {},
   "outputs": [],
   "source": [
    "next(valores)"
   ]
  },
  {
   "cell_type": "code",
   "execution_count": null,
   "id": "bc0ae614",
   "metadata": {},
   "outputs": [],
   "source": [
    "next(valores)"
   ]
  },
  {
   "cell_type": "code",
   "execution_count": null,
   "id": "a06926f4",
   "metadata": {},
   "outputs": [],
   "source": [
    "next(valores)"
   ]
  },
  {
   "cell_type": "code",
   "execution_count": null,
   "id": "c5871053",
   "metadata": {},
   "outputs": [],
   "source": [
    "next(valores)"
   ]
  },
  {
   "cell_type": "markdown",
   "id": "068124a7",
   "metadata": {},
   "source": [
    "Que es básicamente lo que hace la sentencia `for`"
   ]
  },
  {
   "cell_type": "code",
   "execution_count": null,
   "id": "85250754",
   "metadata": {},
   "outputs": [],
   "source": [
    "for valor in generador_ejemplo():\n",
    "    print('Valor: ', valor)"
   ]
  },
  {
   "cell_type": "markdown",
   "id": "d794b742",
   "metadata": {},
   "source": [
    "La clave de un generador es que **no es necesario computar todos los valores posibles** de una serie, sino que los vamos creando uno a uno *bajo demanda*. Quizas antes de terminar la serie podemos dar por concluido el cómputo, y entonces habremos ahorrado tiempo de procesador y memoria. "
   ]
  },
  {
   "cell_type": "code",
   "execution_count": null,
   "id": "373c7dc5",
   "metadata": {},
   "outputs": [],
   "source": [
    "def fibonacci(n):\n",
    "    \"\"\"Generador de n primeros numeros de fibonacci\"\"\"\n",
    "    i = 0\n",
    "    a, b = 0, 1\n",
    "    while i < n:\n",
    "        i += 1\n",
    "        yield a            # devolvemos un valor. En el proximo llamado retornará desde este punto, \n",
    "                           # con los valores de locals() tal como estaban antes de hacer el yield\n",
    "        a, b = b, a + b\n",
    "\n",
    "list(fibonacci(20))"
   ]
  },
  {
   "cell_type": "markdown",
   "id": "d6c9fce7",
   "metadata": {},
   "source": [
    "### Ejercicios\n",
    "\n",
    "1. Defina un generador `encadenar` que recibe una cantidad arbitraria de iteradores como parámetros y encadena el último elemento de un iterador con el primero del siguiente. Por ejemplo `list(encadenar('BA', 'DC'))` devuelve `['B', 'A', 'D', 'C']`. \n",
    "\n",
    "<!-- https://gist.githubusercontent.com/mgaitan/2b11d202a6aec12994b7/raw/cb791ab0252f2cb24de0bf5fd9513ded6d01c3e8/encadenar.py \n",
    "\n",
    "o :-)\n",
    "\n",
    "import itertools\n",
    "itertools.chain\n",
    "\n",
    "-->"
   ]
  },
  {
   "cell_type": "markdown",
   "id": "950cfc29",
   "metadata": {},
   "source": [
    "## Manejo de excepciones\n",
    "\n",
    "Ya vimos que a veces suceden errores: por ejemplo, cuando apuntamos a un elemento mayor al tamaño de una secuencia, cuando pedimos el valor de una clave que no existe en un diccionario, cuando dividimos por cero, cuando intentamos un *casting de tipos* no válido, etc. \n",
    "\n",
    "No hay problema interactivamente, porque podemos corregir y reintentar (lo que es genial), pero muchas veces queremos o necesitamos \"capturar\" el potencial error o excepción, ya sea para subsanarlo de alguna manera, registrarlo o lanzar otro más específico en reemplazo, etc. \n",
    "   \n",
    "La sintaxis es un poco parecida al `if / elif / else`"
   ]
  },
  {
   "cell_type": "code",
   "execution_count": null,
   "id": "b6eff589",
   "metadata": {},
   "outputs": [],
   "source": [
    "int('diez')"
   ]
  },
  {
   "cell_type": "code",
   "execution_count": null,
   "id": "2970f945",
   "metadata": {},
   "outputs": [],
   "source": [
    "while True:\n",
    "    try:\n",
    "        x = int(input(\"Ingrese un número entero: \"))\n",
    "        print(\"qué lindo número el {}\".format(x))\n",
    "        break\n",
    "    except ValueError:\n",
    "        print(\"Eso no es un número válido.\")"
   ]
  },
  {
   "cell_type": "markdown",
   "id": "88273799",
   "metadata": {},
   "source": [
    "Una sintaxis más completa permite multiples bloques `except`, un mismo bloque except  un bloque `else` que se ejecuta cuando no se originó ninguna excepción y un bloque `finally` que se ejecuta siempre"
   ]
  },
  {
   "cell_type": "code",
   "execution_count": null,
   "id": "60b8e659",
   "metadata": {},
   "outputs": [],
   "source": [
    "\n",
    "try:\n",
    "    x = int(input(\"Ingrese el divisor: \"))\n",
    "    print(10/x)\n",
    "except ZeroDivisionError:\n",
    "    print(\"hubo un error de division por cero, obvio\")\n",
    "except ValueError:\n",
    "    print(\"hubo un error de valor. Poné un numero! \")\n",
    "else:\n",
    "    print('todo salió bien. puedo hacer más operaciones')\n",
    "finally:\n",
    "    print('no sé qué pasó ni me interesa: yo me ejecuto igual')\n",
    "    "
   ]
  },
  {
   "cell_type": "markdown",
   "id": "19952601",
   "metadata": {},
   "source": [
    "\n",
    "¡Esto se usa mucho!  En la filosofía de Python, que espera comportamientos y no tipos,  es **mejor pedir perdón que pedir permiso**. Es decir, es preferible capturar potenciales errores de un intento de operación que verificar precondiciones. \n",
    "   \n",
    "#### Ejercicio\n",
    "\n",
    "1. Redefina el siguiente fragmento de código en una estructura `try / except`\n",
    "\n",
    "```python\n",
    "opciones = {'a': 'jugar', 'b': 'bailar', 'c': 'dormir siesta'}\n",
    "\n",
    "opcion = input(\"Ingrese opcion \")\n",
    "if opcion in opciones:\n",
    "   print('Vamos a ', opciones[opcion])\n",
    "else:\n",
    "   print('Valor invalido')\n",
    "```\n",
    "\n",
    "<!-- https://gist.github.com/mgaitan/fbdb84b021151a545a36 -->"
   ]
  },
  {
   "cell_type": "code",
   "execution_count": null,
   "id": "1dea685c",
   "metadata": {
    "collapsed": true,
    "jupyter": {
     "outputs_hidden": true
    }
   },
   "outputs": [],
   "source": []
  },
  {
   "cell_type": "markdown",
   "id": "db7b17dc",
   "metadata": {},
   "source": [
    "## Lectura y escritura de archivos\n",
    "\n",
    "Siempre necesitamos leer y escribir archivos. Es la forma básica de interactuar con el resto del sistema, introducir y exportar datos para la \"computación\". Como en Python todo es un objeto, lo que tenemos es un \"objeto manejador de archivos\" . La forma más básica de obtener uno es con la función `open()` que se le dice la ruta al archivo y modo/s, que se especifican con \n",
    "\n",
    "\n",
    "       'r': lectura (default)\n",
    "       'w': (sobre)escritura\n",
    "       'a': agregar contenido al final \n",
    "       'x': para escribir, pero no sobreescribe si existe el path\n",
    "       'b': modo binario\n",
    "       't': modo texto (default)\n",
    "       '+':\tactualizar contenido\n",
    "       \n",
    "\n"
   ]
  },
  {
   "cell_type": "code",
   "execution_count": null,
   "id": "835f7478",
   "metadata": {},
   "outputs": [],
   "source": [
    "%%writefile archivo.txt\n",
    "UN EJEMPLO DE TEXTO\n",
    "\n",
    "CON MULTIPLES LINEAS\n",
    "\n",
    "SI!"
   ]
  },
  {
   "cell_type": "code",
   "execution_count": null,
   "id": "50df3941",
   "metadata": {},
   "outputs": [],
   "source": [
    "readme = open('archivo.txt')    # se usa modo default 'rt' (sólo lectura, formato texto)\n",
    "print(readme)"
   ]
  },
  {
   "cell_type": "markdown",
   "id": "b51e1127",
   "metadata": {},
   "source": [
    "Los objetos `file like` como `readme` tienen un método principal llamado `read` que lee `n` cantidad de caracteres (o bytes en modo binario) o todo el contenido del archivo si no se especifica"
   ]
  },
  {
   "cell_type": "code",
   "execution_count": null,
   "id": "677fb9bb",
   "metadata": {},
   "outputs": [],
   "source": [
    "texto = readme.read()\n",
    "\n",
    "texto"
   ]
  },
  {
   "cell_type": "code",
   "execution_count": null,
   "id": "a97f6b79",
   "metadata": {
    "collapsed": true,
    "jupyter": {
     "outputs_hidden": true
    }
   },
   "outputs": [],
   "source": []
  },
  {
   "cell_type": "markdown",
   "id": "1ed411db",
   "metadata": {},
   "source": [
    "Atenti: el objeto manejador lleva internamente la **posición del cursor**. Por ejemplo, si invocan multiples veces el metodo `read()`, leerán porciones consecutivas del archivo. \n",
    "\n",
    "Métodos útiles: `read()`, `readlines()`, `write()`, `writelines()`\n",
    "\n",
    "A veces simplemente queremos hacer algo \"linea por linea\". En vez de usar `readlines()` y cargar todo en memoria (que puede ser grande), podemos iterar directamente sobre el archivo, que nos devolverá una línea "
   ]
  },
  {
   "cell_type": "code",
   "execution_count": null,
   "id": "b95f34b7",
   "metadata": {},
   "outputs": [],
   "source": [
    "readme = open('archivo.txt')\n",
    "for linea in readme:\n",
    "    print(linea[:-1].upper())"
   ]
  },
  {
   "cell_type": "code",
   "execution_count": null,
   "id": "bf804429",
   "metadata": {},
   "outputs": [],
   "source": [
    "readme = open('README.rst')\n",
    "for i, linea in enumerate(readme):\n",
    "    if i < 4:\n",
    "        print(linea)\n",
    "    else:\n",
    "        break"
   ]
  },
  {
   "cell_type": "code",
   "execution_count": null,
   "id": "a081e761",
   "metadata": {},
   "outputs": [],
   "source": [
    "readme2 = open('archivo.txt', 'r')\n",
    "\n",
    "print(\"\".join(readme2.readlines()))\n"
   ]
  },
  {
   "cell_type": "markdown",
   "id": "6136b878",
   "metadata": {},
   "source": [
    "Hasta que no se invoca al método `close()` el archivo está manejado en memoria por Python (y puede causar conflictos si queremos abrir el archivo desde otro programa). Como los objetos `file` saben usar un bloque `with` (manejador de contexto), podemos usarlo para que se cierre automáticamente. "
   ]
  },
  {
   "cell_type": "code",
   "execution_count": null,
   "id": "1f3e766f",
   "metadata": {
    "lines_to_next_cell": 2
   },
   "outputs": [],
   "source": [
    "with open('README.rst', 'r') as readme:\n",
    "    lineas = readme.readlines()[0:5]    #mete las líneas en una lista\n",
    "print(''.join(lineas))"
   ]
  },
  {
   "cell_type": "markdown",
   "id": "abbd2fa9",
   "metadata": {},
   "source": [
    "### Ejercicio:\n",
    "\n",
    "1. Escriba una función que, dada la ruta de un archivo de texto, escriba otro archivo con igual nombre pero precedido por el prefijo `\"upper_\"` cuyo contenido es el del original, todo convertido a mayúsculas\n",
    "<!-- https://gist.githubusercontent.com/mgaitan/2c991ea473a8d8c4ab32/raw/3a39cb083a614952bf8ee93ff9f8c4fa2f56784c/convertidor.py -->"
   ]
  },
  {
   "cell_type": "markdown",
   "id": "ea9d0c10",
   "metadata": {},
   "source": [
    "### Archivos binarios"
   ]
  },
  {
   "cell_type": "markdown",
   "id": "ef624b15",
   "metadata": {},
   "source": [
    "La manipulación de archivos binarios es equivalente. \n",
    "\n",
    "\n",
    "\n",
    "![](files/img/circle.bmp)\n",
    "\n"
   ]
  },
  {
   "cell_type": "code",
   "execution_count": null,
   "id": "d22b743a",
   "metadata": {},
   "outputs": [],
   "source": [
    "with open('img/circle.bmp', 'rb') as img_file:\n",
    "    img_data = img_file.read()\n",
    "img_data"
   ]
  },
  {
   "cell_type": "code",
   "execution_count": null,
   "id": "87a11279",
   "metadata": {},
   "outputs": [],
   "source": [
    "type(img_data)"
   ]
  },
  {
   "cell_type": "markdown",
   "id": "bd76d619",
   "metadata": {},
   "source": [
    "Por ejemplo, podemos "
   ]
  },
  {
   "cell_type": "code",
   "execution_count": null,
   "id": "b386a090",
   "metadata": {
    "collapsed": true,
    "jupyter": {
     "outputs_hidden": true
    }
   },
   "outputs": [],
   "source": [
    "with open('circle_edited.bmp', 'wb') as img_file: \n",
    "    img_file.write(img_data.replace(b'\\xff', b'\\x00'))"
   ]
  },
  {
   "cell_type": "markdown",
   "id": "b5cb5202",
   "metadata": {},
   "source": [
    "![](files/circle_edited.bmp)"
   ]
  },
  {
   "cell_type": "markdown",
   "id": "a45ae926",
   "metadata": {},
   "source": [
    "A veces, la información binaria es simplemente texto y sólo hace falta \"decodificarlo\" para que python lo convierta a un objeto unicode. Para eso se usa el método `decode()` al que se le pasa el tipo de \"encoding\" (latin-1, ascii, utf8, etc). "
   ]
  },
  {
   "cell_type": "code",
   "execution_count": null,
   "id": "9a0130c2",
   "metadata": {},
   "outputs": [],
   "source": [
    "img_data.decode('latin-1')[0:30]"
   ]
  },
  {
   "cell_type": "markdown",
   "id": "73efedea",
   "metadata": {},
   "source": [
    "esa representacion como texto de datos que no son texto no es muy util. Sin embargo a veces es util convertir a una representación hexadecimal"
   ]
  },
  {
   "cell_type": "code",
   "execution_count": null,
   "id": "a697a01b",
   "metadata": {},
   "outputs": [],
   "source": [
    "img_data.hex()[0:30]"
   ]
  },
  {
   "cell_type": "markdown",
   "id": "0d222d97",
   "metadata": {},
   "source": [
    "Qué pasa si una estructura de datos binaria del archivo es compuesta? Por ejemplo, texto, números, etc.  Para eso existe el módulo `struct`"
   ]
  },
  {
   "cell_type": "code",
   "execution_count": null,
   "id": "4d591a5b",
   "metadata": {},
   "outputs": [],
   "source": [
    "import struct \n",
    "\n",
    "values = (1, 'ab'.encode('utf-8'), 2.7)\n",
    "s = struct.Struct('I 2s f')\n",
    "packed_data = s.pack(*values)\n",
    "\n",
    "print('Original values:', values)\n",
    "print('Format string  :', s.format)\n",
    "print('Uses           :', s.size, 'bytes')\n",
    "print('Packed Value   :', packed_data.hex())"
   ]
  },
  {
   "cell_type": "code",
   "execution_count": null,
   "id": "15074498",
   "metadata": {},
   "outputs": [],
   "source": [
    "s.unpack(packed_data)"
   ]
  }
 ],
 "metadata": {
  "kernelspec": {
   "display_name": "Python 3 (ipykernel)",
   "language": "python",
   "name": "python3"
  },
  "language_info": {
   "codemirror_mode": {
    "name": "ipython",
    "version": 3
   },
   "file_extension": ".py",
   "mimetype": "text/x-python",
   "name": "python",
   "nbconvert_exporter": "python",
   "pygments_lexer": "ipython3",
   "version": "3.9.5"
  }
 },
 "nbformat": 4,
 "nbformat_minor": 5
}
